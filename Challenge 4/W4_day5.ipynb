{
 "cells": [
  {
   "cell_type": "code",
   "execution_count": 2,
   "metadata": {},
   "outputs": [],
   "source": [
    "import pandas as pd\n",
    "\n",
    "from gensim.utils import simple_preprocess\n",
    "from gensim.models import Doc2Vec\n",
    "from gensim.models.doc2vec import TaggedDocument\n",
    "from gensim.models.phrases import Phraser, Phrases\n"
   ]
  },
  {
   "cell_type": "code",
   "execution_count": 3,
   "metadata": {},
   "outputs": [
    {
     "data": {
      "text/plain": [
       "(36109, 8)"
      ]
     },
     "execution_count": 3,
     "metadata": {},
     "output_type": "execute_result"
    }
   ],
   "source": [
    "df = pd.read_csv('./data2/job_ofer.csv')\n",
    "df.shape"
   ]
  },
  {
   "cell_type": "code",
   "execution_count": 4,
   "metadata": {},
   "outputs": [
    {
     "data": {
      "text/html": [
       "<div>\n",
       "<style scoped>\n",
       "    .dataframe tbody tr th:only-of-type {\n",
       "        vertical-align: middle;\n",
       "    }\n",
       "\n",
       "    .dataframe tbody tr th {\n",
       "        vertical-align: top;\n",
       "    }\n",
       "\n",
       "    .dataframe thead th {\n",
       "        text-align: right;\n",
       "    }\n",
       "</style>\n",
       "<table border=\"1\" class=\"dataframe\">\n",
       "  <thead>\n",
       "    <tr style=\"text-align: right;\">\n",
       "      <th></th>\n",
       "      <th>title</th>\n",
       "      <th>company_name</th>\n",
       "      <th>address</th>\n",
       "      <th>description</th>\n",
       "      <th>seniority_level</th>\n",
       "      <th>employment_type</th>\n",
       "      <th>job_function</th>\n",
       "      <th>industries</th>\n",
       "    </tr>\n",
       "  </thead>\n",
       "  <tbody>\n",
       "    <tr>\n",
       "      <th>0</th>\n",
       "      <td>Machine Learning Engineer</td>\n",
       "      <td>Intellipro Group Inc</td>\n",
       "      <td>Palo Alto, CA, US</td>\n",
       "      <td>['About The Company', \"W*** is reshaping the f...</td>\n",
       "      <td>Entry level</td>\n",
       "      <td>Full-time</td>\n",
       "      <td>Engineering</td>\n",
       "      <td>Information Technology and Services</td>\n",
       "    </tr>\n",
       "    <tr>\n",
       "      <th>1</th>\n",
       "      <td>Deep Learning Applied Researcher - Chicago</td>\n",
       "      <td>Ethosia</td>\n",
       "      <td>Chicago, IL, US</td>\n",
       "      <td>['תיאור המשרה', 'Deep learning for Computer Vi...</td>\n",
       "      <td>Associate</td>\n",
       "      <td>Full-time</td>\n",
       "      <td>Other</td>\n",
       "      <td>Information Technology and Services</td>\n",
       "    </tr>\n",
       "    <tr>\n",
       "      <th>2</th>\n",
       "      <td>Machine Learning Engineer</td>\n",
       "      <td>Motorola Solutions</td>\n",
       "      <td>Chicago, IL, US</td>\n",
       "      <td>['Company Overview', 'At Motorola Solutions, w...</td>\n",
       "      <td>Entry level</td>\n",
       "      <td>Full-time</td>\n",
       "      <td>Engineering</td>\n",
       "      <td>Information Technology and Services</td>\n",
       "    </tr>\n",
       "    <tr>\n",
       "      <th>3</th>\n",
       "      <td>Machine Learning / Data Scientist</td>\n",
       "      <td>Proprius LLC</td>\n",
       "      <td>San Francisco, CA, US</td>\n",
       "      <td>['Our client is a digital invention agency foc...</td>\n",
       "      <td>Entry level</td>\n",
       "      <td>Full-time</td>\n",
       "      <td>Engineering</td>\n",
       "      <td>Information Technology and Services</td>\n",
       "    </tr>\n",
       "    <tr>\n",
       "      <th>4</th>\n",
       "      <td>Cloud Architect</td>\n",
       "      <td>TCS</td>\n",
       "      <td>Framingham, Massachusetts, United States</td>\n",
       "      <td>['Technical/Functional Skills', ' ', 'Good to ...</td>\n",
       "      <td>Mid-Senior level</td>\n",
       "      <td>Full-time</td>\n",
       "      <td>Engineering</td>\n",
       "      <td>Information Technology and Services</td>\n",
       "    </tr>\n",
       "  </tbody>\n",
       "</table>\n",
       "</div>"
      ],
      "text/plain": [
       "                                        title          company_name  \\\n",
       "0                   Machine Learning Engineer  Intellipro Group Inc   \n",
       "1  Deep Learning Applied Researcher - Chicago               Ethosia   \n",
       "2                   Machine Learning Engineer    Motorola Solutions   \n",
       "3           Machine Learning / Data Scientist          Proprius LLC   \n",
       "4                             Cloud Architect                   TCS   \n",
       "\n",
       "                                    address  \\\n",
       "0                         Palo Alto, CA, US   \n",
       "1                           Chicago, IL, US   \n",
       "2                           Chicago, IL, US   \n",
       "3                     San Francisco, CA, US   \n",
       "4  Framingham, Massachusetts, United States   \n",
       "\n",
       "                                         description   seniority_level  \\\n",
       "0  ['About The Company', \"W*** is reshaping the f...       Entry level   \n",
       "1  ['תיאור המשרה', 'Deep learning for Computer Vi...         Associate   \n",
       "2  ['Company Overview', 'At Motorola Solutions, w...       Entry level   \n",
       "3  ['Our client is a digital invention agency foc...       Entry level   \n",
       "4  ['Technical/Functional Skills', ' ', 'Good to ...  Mid-Senior level   \n",
       "\n",
       "  employment_type job_function                           industries  \n",
       "0       Full-time  Engineering  Information Technology and Services  \n",
       "1       Full-time        Other  Information Technology and Services  \n",
       "2       Full-time  Engineering  Information Technology and Services  \n",
       "3       Full-time  Engineering  Information Technology and Services  \n",
       "4       Full-time  Engineering  Information Technology and Services  "
      ]
     },
     "execution_count": 4,
     "metadata": {},
     "output_type": "execute_result"
    }
   ],
   "source": [
    "df.head()"
   ]
  },
  {
   "cell_type": "code",
   "execution_count": 5,
   "metadata": {},
   "outputs": [
    {
     "data": {
      "text/plain": [
       "0                            [machine, learning, engineer]\n",
       "1           [deep, learning, applied, researcher, chicago]\n",
       "2                            [machine, learning, engineer]\n",
       "3                     [machine, learning, data, scientist]\n",
       "4                                       [cloud, architect]\n",
       "5                                        [data, scientist]\n",
       "6                                     [store, room, clerk]\n",
       "7                              [director, of, product, us]\n",
       "8               [recruiting, manager, ad, census, ext, gb]\n",
       "9        [bilingual, engineer, german, germany, or, swi...\n",
       "10                                             [sommelier]\n",
       "11       [entry, level, project, manager, shelton, ct, ...\n",
       "12       [finance, manager, firestone, industrial, prod...\n",
       "13        [us, lcra, cardiovascular, remote, anywhere, in]\n",
       "14          [gallagher, bassett, corporate, intern, legal]\n",
       "15                               [us, head, of, marketing]\n",
       "16                                  [visual, merchandiser]\n",
       "17                     [community, intern, tampa, bay, fl]\n",
       "18                               [sr, innovation, manager]\n",
       "19                      [fashion, beauty, content, editor]\n",
       "20                                        [fp, specialist]\n",
       "21                             [associate, brand, manager]\n",
       "22                      [operations, director, innate, ru]\n",
       "23                                     [business, analyst]\n",
       "24                     [global, marketing, director, hvac]\n",
       "25       [market, access, development, program, mba, in...\n",
       "26                               [production, coordinator]\n",
       "27       [digital, marketing, specialist, remote, us, o...\n",
       "28                       [director, of, operations, aslan]\n",
       "29       [nyc, partnership, manager, cloud, support, tr...\n",
       "                               ...                        \n",
       "36079                                   [autocad, drafter]\n",
       "36080      [sap, cloud, platform, integration, specialist]\n",
       "36081    [consultant, as, project, manager, supplier, d...\n",
       "36082             [med, ed, specialist, digital, learning]\n",
       "36083            [technical, product, support, specialist]\n",
       "36084    [medical, education, associate, specialist, ro...\n",
       "36085           [clinical, research, study, project, lead]\n",
       "36086           [it, analyst, web, and, mobile, developer]\n",
       "36087           [global, customer, operations, supervisor]\n",
       "36088                                           [packager]\n",
       "36089                [regulatory, affairs, sr, specialist]\n",
       "36090                        [quality, principal, auditor]\n",
       "36091    [cdl, drivers, hauling, to, canada, no, touch,...\n",
       "36092    [cdl, drivers, hauling, to, canada, no, touch,...\n",
       "36093    [cdl, drivers, hauling, to, canada, no, touch,...\n",
       "36094    [cdl, drivers, hauling, to, canada, no, touch,...\n",
       "36095    [cdl, drivers, hauling, to, canada, no, touch,...\n",
       "36096    [cdl, drivers, hauling, to, canada, no, touch,...\n",
       "36097    [cdl, drivers, hauling, to, canada, no, touch,...\n",
       "36098    [cdl, drivers, hauling, to, canada, no, touch,...\n",
       "36099    [cdl, drivers, hauling, to, canada, no, touch,...\n",
       "36100    [cdl, drivers, hauling, to, canada, no, touch,...\n",
       "36101    [cdl, drivers, hauling, to, canada, no, touch,...\n",
       "36102    [cdl, drivers, hauling, to, canada, no, touch,...\n",
       "36103    [cdl, drivers, hauling, to, canada, no, touch,...\n",
       "36104    [cdl, drivers, hauling, to, canada, no, touch,...\n",
       "36105    [research, scientist, human, computer, interac...\n",
       "36106    [clinical, post, market, surveillance, special...\n",
       "36107    [excellent, teaching, opportunity, in, china, ...\n",
       "36108                [assistant, director, talent, culure]\n",
       "Name: title, Length: 36109, dtype: object"
      ]
     },
     "execution_count": 5,
     "metadata": {},
     "output_type": "execute_result"
    }
   ],
   "source": [
    "title_corpus = df['title'].map(simple_preprocess)\n",
    "title_corpus"
   ]
  },
  {
   "cell_type": "code",
   "execution_count": 6,
   "metadata": {},
   "outputs": [],
   "source": [
    "title_tagged = [TaggedDocument(words=sent, tags=[i]) for i, sent in enumerate(title_corpus)]"
   ]
  },
  {
   "cell_type": "code",
   "execution_count": 7,
   "metadata": {},
   "outputs": [
    {
     "name": "stderr",
     "output_type": "stream",
     "text": [
      "C:\\Users\\PC\\Anaconda3\\lib\\site-packages\\gensim\\models\\base_any2vec.py:743: UserWarning: C extension not loaded, training will be slow. Install a C compiler and reinstall gensim for fast training.\n",
      "  \"C extension not loaded, training will be slow. \"\n"
     ]
    }
   ],
   "source": [
    "title_model = Doc2Vec(vector_size=300, window_size=2, min_count=1)\n",
    "title_model.build_vocab(title_tagged)"
   ]
  },
  {
   "cell_type": "code",
   "execution_count": 8,
   "metadata": {},
   "outputs": [
    {
     "name": "stdout",
     "output_type": "stream",
     "text": [
      "Wall time: 22min 14s\n"
     ]
    }
   ],
   "source": [
    "%time title_model.train(title_tagged, total_examples=title_model.corpus_count, epochs=10)"
   ]
  },
  {
   "cell_type": "code",
   "execution_count": 9,
   "metadata": {},
   "outputs": [
    {
     "data": {
      "text/plain": [
       "[(31206, 0.8977783918380737),\n",
       " (9442, 0.8963055610656738),\n",
       " (15292, 0.8952628970146179),\n",
       " (354, 0.8936756253242493),\n",
       " (15293, 0.890261173248291),\n",
       " (9614, 0.8869382739067078),\n",
       " (24789, 0.886513888835907),\n",
       " (17059, 0.8784481883049011),\n",
       " (9601, 0.8772045373916626),\n",
       " (15294, 0.8755771517753601)]"
      ]
     },
     "execution_count": 9,
     "metadata": {},
     "output_type": "execute_result"
    }
   ],
   "source": [
    "title_model.docvecs.most_similar(0)"
   ]
  },
  {
   "cell_type": "code",
   "execution_count": 10,
   "metadata": {},
   "outputs": [
    {
     "data": {
      "text/plain": [
       "0    Machine Learning Engineer\n",
       "Name: title, dtype: object"
      ]
     },
     "execution_count": 10,
     "metadata": {},
     "output_type": "execute_result"
    }
   ],
   "source": [
    "df[df.index == 0].title"
   ]
  },
  {
   "cell_type": "code",
   "execution_count": 15,
   "metadata": {},
   "outputs": [
    {
     "data": {
      "text/plain": [
       "9614    Deep Learning Researcher\n",
       "Name: title, dtype: object"
      ]
     },
     "execution_count": 15,
     "metadata": {},
     "output_type": "execute_result"
    }
   ],
   "source": [
    "df[df.index == 9614].title"
   ]
  },
  {
   "cell_type": "code",
   "execution_count": 16,
   "metadata": {},
   "outputs": [
    {
     "data": {
      "text/plain": [
       "31206    Senior Machine Learning Engineer - Natural Lan...\n",
       "Name: title, dtype: object"
      ]
     },
     "execution_count": 16,
     "metadata": {},
     "output_type": "execute_result"
    }
   ],
   "source": [
    "df[df.index == 31206].title"
   ]
  },
  {
   "cell_type": "code",
   "execution_count": 17,
   "metadata": {},
   "outputs": [
    {
     "data": {
      "text/plain": [
       "9442    Machine Learning and Big Data Researcher - Roc...\n",
       "Name: title, dtype: object"
      ]
     },
     "execution_count": 17,
     "metadata": {},
     "output_type": "execute_result"
    }
   ],
   "source": [
    "df[df.index == 9442].title"
   ]
  },
  {
   "cell_type": "code",
   "execution_count": null,
   "metadata": {},
   "outputs": [],
   "source": []
  },
  {
   "cell_type": "code",
   "execution_count": null,
   "metadata": {},
   "outputs": [],
   "source": []
  }
 ],
 "metadata": {
  "kernelspec": {
   "display_name": "Python 3",
   "language": "python",
   "name": "python3"
  },
  "language_info": {
   "codemirror_mode": {
    "name": "ipython",
    "version": 3
   },
   "file_extension": ".py",
   "mimetype": "text/x-python",
   "name": "python",
   "nbconvert_exporter": "python",
   "pygments_lexer": "ipython3",
   "version": "3.6.7"
  }
 },
 "nbformat": 4,
 "nbformat_minor": 2
}
