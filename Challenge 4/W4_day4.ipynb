{
 "cells": [
  {
   "cell_type": "code",
   "execution_count": 32,
   "metadata": {},
   "outputs": [],
   "source": [
    "import pandas as pd\n",
    "\n",
    "from gensim.utils import simple_preprocess\n",
    "from gensim.models import Word2Vec\n",
    "from gensim.models.phrases import Phrases, Phraser\n",
    "\n",
    "from ast import literal_eval"
   ]
  },
  {
   "cell_type": "code",
   "execution_count": 2,
   "metadata": {
    "collapsed": true
   },
   "outputs": [
    {
     "name": "stdout",
     "output_type": "stream",
     "text": [
      " Volume in drive C is Acer\n",
      " Volume Serial Number is 0823-6B7C\n",
      "\n",
      " Directory of C:\\Python Scripts\\MLChallenge\\Wyzwanie_4\n",
      "\n",
      "\n",
      " Directory of C:\\Python Scripts\\MLChallenge\\Wyzwanie_4\\data2\n",
      "\n",
      "04.09.2019  22:53    <DIR>          .\n",
      "04.09.2019  22:53    <DIR>          ..\n",
      "04.09.2019  22:53       133˙415˙034 job_ofer.csv\n",
      "04.09.2019  22:54        39˙312˙744 job_ofer.csv.tar.gz\n",
      "               2 File(s)    172˙727˙778 bytes\n",
      "               2 Dir(s)  341˙131˙890˙688 bytes free\n"
     ]
    },
    {
     "name": "stderr",
     "output_type": "stream",
     "text": [
      "File Not Found\n"
     ]
    }
   ],
   "source": [
    "ls -lh data2"
   ]
  },
  {
   "cell_type": "code",
   "execution_count": 3,
   "metadata": {},
   "outputs": [
    {
     "data": {
      "text/plain": [
       "(36109, 8)"
      ]
     },
     "execution_count": 3,
     "metadata": {},
     "output_type": "execute_result"
    }
   ],
   "source": [
    "df = pd.read_csv('data2/job_ofer.csv')\n",
    "df.shape"
   ]
  },
  {
   "cell_type": "code",
   "execution_count": 4,
   "metadata": {},
   "outputs": [
    {
     "data": {
      "text/html": [
       "<div>\n",
       "<style scoped>\n",
       "    .dataframe tbody tr th:only-of-type {\n",
       "        vertical-align: middle;\n",
       "    }\n",
       "\n",
       "    .dataframe tbody tr th {\n",
       "        vertical-align: top;\n",
       "    }\n",
       "\n",
       "    .dataframe thead th {\n",
       "        text-align: right;\n",
       "    }\n",
       "</style>\n",
       "<table border=\"1\" class=\"dataframe\">\n",
       "  <thead>\n",
       "    <tr style=\"text-align: right;\">\n",
       "      <th></th>\n",
       "      <th>title</th>\n",
       "      <th>company_name</th>\n",
       "      <th>address</th>\n",
       "      <th>description</th>\n",
       "      <th>seniority_level</th>\n",
       "      <th>employment_type</th>\n",
       "      <th>job_function</th>\n",
       "      <th>industries</th>\n",
       "    </tr>\n",
       "  </thead>\n",
       "  <tbody>\n",
       "    <tr>\n",
       "      <th>0</th>\n",
       "      <td>Machine Learning Engineer</td>\n",
       "      <td>Intellipro Group Inc</td>\n",
       "      <td>Palo Alto, CA, US</td>\n",
       "      <td>['About The Company', \"W*** is reshaping the f...</td>\n",
       "      <td>Entry level</td>\n",
       "      <td>Full-time</td>\n",
       "      <td>Engineering</td>\n",
       "      <td>Information Technology and Services</td>\n",
       "    </tr>\n",
       "    <tr>\n",
       "      <th>1</th>\n",
       "      <td>Deep Learning Applied Researcher - Chicago</td>\n",
       "      <td>Ethosia</td>\n",
       "      <td>Chicago, IL, US</td>\n",
       "      <td>['תיאור המשרה', 'Deep learning for Computer Vi...</td>\n",
       "      <td>Associate</td>\n",
       "      <td>Full-time</td>\n",
       "      <td>Other</td>\n",
       "      <td>Information Technology and Services</td>\n",
       "    </tr>\n",
       "    <tr>\n",
       "      <th>2</th>\n",
       "      <td>Machine Learning Engineer</td>\n",
       "      <td>Motorola Solutions</td>\n",
       "      <td>Chicago, IL, US</td>\n",
       "      <td>['Company Overview', 'At Motorola Solutions, w...</td>\n",
       "      <td>Entry level</td>\n",
       "      <td>Full-time</td>\n",
       "      <td>Engineering</td>\n",
       "      <td>Information Technology and Services</td>\n",
       "    </tr>\n",
       "    <tr>\n",
       "      <th>3</th>\n",
       "      <td>Machine Learning / Data Scientist</td>\n",
       "      <td>Proprius LLC</td>\n",
       "      <td>San Francisco, CA, US</td>\n",
       "      <td>['Our client is a digital invention agency foc...</td>\n",
       "      <td>Entry level</td>\n",
       "      <td>Full-time</td>\n",
       "      <td>Engineering</td>\n",
       "      <td>Information Technology and Services</td>\n",
       "    </tr>\n",
       "    <tr>\n",
       "      <th>4</th>\n",
       "      <td>Cloud Architect</td>\n",
       "      <td>TCS</td>\n",
       "      <td>Framingham, Massachusetts, United States</td>\n",
       "      <td>['Technical/Functional Skills', ' ', 'Good to ...</td>\n",
       "      <td>Mid-Senior level</td>\n",
       "      <td>Full-time</td>\n",
       "      <td>Engineering</td>\n",
       "      <td>Information Technology and Services</td>\n",
       "    </tr>\n",
       "  </tbody>\n",
       "</table>\n",
       "</div>"
      ],
      "text/plain": [
       "                                        title          company_name  \\\n",
       "0                   Machine Learning Engineer  Intellipro Group Inc   \n",
       "1  Deep Learning Applied Researcher - Chicago               Ethosia   \n",
       "2                   Machine Learning Engineer    Motorola Solutions   \n",
       "3           Machine Learning / Data Scientist          Proprius LLC   \n",
       "4                             Cloud Architect                   TCS   \n",
       "\n",
       "                                    address  \\\n",
       "0                         Palo Alto, CA, US   \n",
       "1                           Chicago, IL, US   \n",
       "2                           Chicago, IL, US   \n",
       "3                     San Francisco, CA, US   \n",
       "4  Framingham, Massachusetts, United States   \n",
       "\n",
       "                                         description   seniority_level  \\\n",
       "0  ['About The Company', \"W*** is reshaping the f...       Entry level   \n",
       "1  ['תיאור המשרה', 'Deep learning for Computer Vi...         Associate   \n",
       "2  ['Company Overview', 'At Motorola Solutions, w...       Entry level   \n",
       "3  ['Our client is a digital invention agency foc...       Entry level   \n",
       "4  ['Technical/Functional Skills', ' ', 'Good to ...  Mid-Senior level   \n",
       "\n",
       "  employment_type job_function                           industries  \n",
       "0       Full-time  Engineering  Information Technology and Services  \n",
       "1       Full-time        Other  Information Technology and Services  \n",
       "2       Full-time  Engineering  Information Technology and Services  \n",
       "3       Full-time  Engineering  Information Technology and Services  \n",
       "4       Full-time  Engineering  Information Technology and Services  "
      ]
     },
     "execution_count": 4,
     "metadata": {},
     "output_type": "execute_result"
    }
   ],
   "source": [
    "df.head()"
   ]
  },
  {
   "cell_type": "markdown",
   "metadata": {},
   "source": [
    "## Word2Vec"
   ]
  },
  {
   "cell_type": "code",
   "execution_count": 6,
   "metadata": {},
   "outputs": [],
   "source": [
    "corpus = df['title'].map( simple_preprocess)"
   ]
  },
  {
   "cell_type": "code",
   "execution_count": 7,
   "metadata": {},
   "outputs": [
    {
     "name": "stderr",
     "output_type": "stream",
     "text": [
      "C:\\Users\\PC\\Anaconda3\\lib\\site-packages\\gensim\\models\\base_any2vec.py:743: UserWarning: C extension not loaded, training will be slow. Install a C compiler and reinstall gensim for fast training.\n",
      "  \"C extension not loaded, training will be slow. \"\n"
     ]
    }
   ],
   "source": [
    "model = Word2Vec(corpus, size=100, window=2, min_count=1)"
   ]
  },
  {
   "cell_type": "code",
   "execution_count": 9,
   "metadata": {},
   "outputs": [
    {
     "data": {
      "text/plain": [
       "[('deep', 0.9580866694450378),\n",
       " ('acceleration', 0.8711884021759033),\n",
       " ('edge', 0.8700445890426636),\n",
       " ('inference', 0.8612096309661865),\n",
       " ('scientists', 0.8592015504837036),\n",
       " ('bentonville', 0.8566080331802368),\n",
       " ('big', 0.852530837059021),\n",
       " ('captivate', 0.8482269048690796),\n",
       " ('nlp', 0.846771240234375),\n",
       " ('computer', 0.8409063816070557)]"
      ]
     },
     "execution_count": 9,
     "metadata": {},
     "output_type": "execute_result"
    }
   ],
   "source": [
    "model.wv.most_similar('machine')"
   ]
  },
  {
   "cell_type": "code",
   "execution_count": 13,
   "metadata": {},
   "outputs": [
    {
     "data": {
      "text/plain": [
       "['k', 'machine_learning', 'c']"
      ]
     },
     "execution_count": 13,
     "metadata": {},
     "output_type": "execute_result"
    }
   ],
   "source": [
    "corpus = [\n",
    "    ['machine', 'learning', 'c'],\n",
    "    ['machine', 'learning', 'x'],\n",
    "    ['y', 'machine', 'learning', 'w'],\n",
    "    ['q', 'machine', 'learning', 'u', 'k'],\n",
    "]\n",
    "bigram = Phraser( Phrases(corpus, min_count=1, threshold=1))\n",
    "\n",
    "bigram[ ['k', 'machine', 'learning', 'c']]"
   ]
  },
  {
   "cell_type": "markdown",
   "metadata": {},
   "source": [
    "## Title + phrases"
   ]
  },
  {
   "cell_type": "code",
   "execution_count": 15,
   "metadata": {},
   "outputs": [],
   "source": [
    "title_corpus = df['title'].map(simple_preprocess)\n",
    "\n",
    "title_bigram = Phraser( Phrases(title_corpus, min_count=1, threshold=1))"
   ]
  },
  {
   "cell_type": "code",
   "execution_count": 17,
   "metadata": {},
   "outputs": [
    {
     "data": {
      "text/plain": [
       "['deep_learning', 'applaied', 'resarcher', 'chicago']"
      ]
     },
     "execution_count": 17,
     "metadata": {},
     "output_type": "execute_result"
    }
   ],
   "source": [
    "title_bigram[ simple_preprocess('Deep Learning Applaied Resarcher - Chicago')]"
   ]
  },
  {
   "cell_type": "code",
   "execution_count": 18,
   "metadata": {},
   "outputs": [
    {
     "name": "stderr",
     "output_type": "stream",
     "text": [
      "C:\\Users\\PC\\Anaconda3\\lib\\site-packages\\gensim\\models\\base_any2vec.py:743: UserWarning: C extension not loaded, training will be slow. Install a C compiler and reinstall gensim for fast training.\n",
      "  \"C extension not loaded, training will be slow. \"\n"
     ]
    }
   ],
   "source": [
    "title_corpus_phrase = [title_bigram[sent] for sent in title_corpus]\n",
    "model = Word2Vec(title_corpus_phrase, size=100, window=2, min_count=1)"
   ]
  },
  {
   "cell_type": "code",
   "execution_count": 19,
   "metadata": {},
   "outputs": [
    {
     "data": {
      "text/plain": [
       "[('assistant_vice', 0.945888876914978),\n",
       " ('manager_domain', 0.9453252553939819),\n",
       " ('birmingham', 0.9451084733009338),\n",
       " ('llc', 0.9449663162231445),\n",
       " ('route', 0.9449475407600403),\n",
       " ('operator_truck', 0.9446684122085571),\n",
       " ('dry_van', 0.9434405565261841),\n",
       " ('engineer_iii', 0.9433798789978027),\n",
       " ('park', 0.9433251619338989),\n",
       " ('cdl_dedicated', 0.9433212280273438)]"
      ]
     },
     "execution_count": 19,
     "metadata": {},
     "output_type": "execute_result"
    }
   ],
   "source": [
    "model.wv.most_similar('machine')"
   ]
  },
  {
   "cell_type": "code",
   "execution_count": 20,
   "metadata": {},
   "outputs": [],
   "source": [
    "def prepare_corpus(corpus, bigram):\n",
    "    for sent in corpus:\n",
    "        yield bigram[sent] + sent"
   ]
  },
  {
   "cell_type": "code",
   "execution_count": 21,
   "metadata": {},
   "outputs": [
    {
     "data": {
      "text/plain": [
       "['deep', 'learning', 'applaied', 'resarcher', 'chicago']"
      ]
     },
     "execution_count": 21,
     "metadata": {},
     "output_type": "execute_result"
    }
   ],
   "source": [
    "simple_preprocess('Deep Learning Applaied Resarcher - Chicago')"
   ]
  },
  {
   "cell_type": "code",
   "execution_count": 22,
   "metadata": {},
   "outputs": [
    {
     "data": {
      "text/plain": [
       "['deep_learning', 'appleid', 'resarcher', 'chicago']"
      ]
     },
     "execution_count": 22,
     "metadata": {},
     "output_type": "execute_result"
    }
   ],
   "source": [
    "title_bigram[ ['deep', 'learning', 'appleid', 'resarcher', 'chicago']]"
   ]
  },
  {
   "cell_type": "code",
   "execution_count": 25,
   "metadata": {},
   "outputs": [],
   "source": [
    "ext_corp = list(prepare_corpus(title_corpus, title_bigram))\n",
    "title_model = Word2Vec( ext_corp, size=100, window=2, min_count=1 )"
   ]
  },
  {
   "cell_type": "code",
   "execution_count": 26,
   "metadata": {},
   "outputs": [
    {
     "data": {
      "text/plain": [
       "[('deep', 0.9575784802436829),\n",
       " ('machine_learning', 0.952623724937439),\n",
       " ('learning', 0.9444158673286438),\n",
       " ('learning_product', 0.9353761672973633),\n",
       " ('artificial_intelligence', 0.9315321445465088),\n",
       " ('deep_learning', 0.930548369884491),\n",
       " ('nlp', 0.9288588762283325),\n",
       " ('computer_vision', 0.9255634546279907),\n",
       " ('nlp_research', 0.9244264364242554),\n",
       " ('big', 0.9222752451896667)]"
      ]
     },
     "execution_count": 26,
     "metadata": {},
     "output_type": "execute_result"
    }
   ],
   "source": [
    "title_model.wv.most_similar('machine')"
   ]
  },
  {
   "cell_type": "markdown",
   "metadata": {},
   "source": [
    "## Description"
   ]
  },
  {
   "cell_type": "code",
   "execution_count": 28,
   "metadata": {},
   "outputs": [],
   "source": [
    "descr_corpus = df['description'].map(simple_preprocess)\n",
    "descr_bigram = Phraser(Phrases(descr_corpus, min_count=1, threshold=1))"
   ]
  },
  {
   "cell_type": "code",
   "execution_count": 29,
   "metadata": {},
   "outputs": [],
   "source": [
    "ext_descr_corp = list(prepare_corpus(descr_corpus, descr_bigram))\n",
    "descr_model = Word2Vec(ext_corp, size=100, window=2, min_count=1)"
   ]
  },
  {
   "cell_type": "code",
   "execution_count": 34,
   "metadata": {},
   "outputs": [
    {
     "name": "stderr",
     "output_type": "stream",
     "text": [
      "C:\\Users\\PC\\Anaconda3\\lib\\site-packages\\ipykernel_launcher.py:1: DeprecationWarning: Call to deprecated `most_similar` (Method will be removed in 4.0.0, use self.wv.most_similar() instead).\n",
      "  \"\"\"Entry point for launching an IPython kernel.\n"
     ]
    },
    {
     "data": {
      "text/plain": [
       "[('alpharetta', 0.9918292164802551),\n",
       " ('computer', 0.988326907157898),\n",
       " ('big_data', 0.9869385361671448),\n",
       " ('artificial_intelligence', 0.9864896535873413),\n",
       " ('principal_data', 0.9858219623565674),\n",
       " ('computer_vision', 0.9855321049690247),\n",
       " ('deep', 0.9837415218353271),\n",
       " ('scientist_natural', 0.9834238886833191),\n",
       " ('catalyst', 0.9834015369415283),\n",
       " ('scientists', 0.9819791913032532)]"
      ]
     },
     "execution_count": 34,
     "metadata": {},
     "output_type": "execute_result"
    }
   ],
   "source": [
    "descr_model.most_similar('nlp')"
   ]
  },
  {
   "cell_type": "code",
   "execution_count": 31,
   "metadata": {},
   "outputs": [
    {
     "name": "stderr",
     "output_type": "stream",
     "text": [
      "C:\\Users\\PC\\Anaconda3\\lib\\site-packages\\ipykernel_launcher.py:1: DeprecationWarning: Call to deprecated `most_similar` (Method will be removed in 4.0.0, use self.wv.most_similar() instead).\n",
      "  \"\"\"Entry point for launching an IPython kernel.\n"
     ]
    },
    {
     "data": {
      "text/plain": [
       "[('deep_learning', 0.9921468496322632),\n",
       " ('deep', 0.9903712272644043),\n",
       " ('artificial_intelligence', 0.9895111322402954),\n",
       " ('ml', 0.9889489412307739),\n",
       " ('computer', 0.9885504841804504),\n",
       " ('computer_vision', 0.9880896806716919),\n",
       " ('big_data', 0.9828800559043884),\n",
       " ('engineer_personalization', 0.9825940728187561),\n",
       " ('applied', 0.9825090169906616),\n",
       " ('junior_data', 0.9811336994171143)]"
      ]
     },
     "execution_count": 31,
     "metadata": {},
     "output_type": "execute_result"
    }
   ],
   "source": [
    "title_model.most_similar('nlp')"
   ]
  },
  {
   "cell_type": "code",
   "execution_count": 33,
   "metadata": {},
   "outputs": [
    {
     "name": "stdout",
     "output_type": "stream",
     "text": [
      "Konica Minolta Business Solutions U.S.A., Inc., a global Fortune 1000 company and one of Forbes 2017 America’s Best Large Employers, is transforming the way we all do business.\n",
      "\n",
      "From smart office technology and information management to cloud, mobility and IT services, we have a rich history of creating the products and services necessary to drive innovation and make work possible from anywhere at any time. Our award-winning products and solutions help companies around the world move information faster, improve quality and productivity, enhance security and facilitate the sharing of information. We are proud that our portfolio leads the industry while exceeding environmental standards.\n",
      "\n",
      "At Konica Minolta, you'll work for an amazing technology company with growth opportunities, great benefits and talented, passionate co-workers.\n",
      "\n",
      "Position Objective\n",
      "\n",
      "Konica Minolta currently has an exciting opportunity for you to join us as a \n",
      "\n",
      "Major Account Executive!\n",
      "\n",
      "Essential Job Functions\n",
      "\n",
      "You will seek out new customers and partner with existing ones by offering a variety of solutions to improve their business and take exceptional care of your clients.\n",
      "\n",
      "You will conduct outbound calling every day to set face-to-face appointments, ensuring outstanding customer service though regular follow-ups, reporting regularly to a branch office.\n",
      "\n",
      "You will establish and strengthen relationships with decision makers for current and potential clients.\n",
      "\n",
      "You will learn and demonstrate the benefits of all Konica Minolta products, services and solutions for clients.\n",
      "\n",
      "You will design and present solutions that will help customers’ businesses.\n",
      "\n",
      "You will consistently close sales and achieve monthly activity and revenue goals.\n",
      "\n",
      "Competencies (Knowledge, Skills And Abilities)\n",
      "\n",
      "You are able to thrive in a dynamic environment; you are driven to succeed and willing to strive to be the best.\n",
      "\n",
      "You bring a high level of energy and are committed to achieve your sales goals.\n",
      "\n",
      "You are experienced in problem solving to offer client impactful business solutions.\n",
      "\n",
      "You understand the industry and have established relationships in this field.\n",
      "\n",
      "You are tenacious and have a desire to develop and secure new business accounts.\n",
      "\n",
      "You are passionate about growing your knowledge as you build your career.\n",
      "\n",
      "Experience, Educational Reqts And Certifications\n",
      "\n",
      "6-10 years of business-to-business technical sales experience, selling to clients in the digital imaging solutions field or other related technology industry.\n",
      "\n",
      "College degree preferred.\n",
      "\n",
      "A valid driver’s license and reliable transportation is required!\n",
      "\n",
      "Konica Minolta Offers\n",
      "\n",
      "Competitive salary (base salary plus generous commission plan)\n",
      "\n",
      "Strong results are well rewarded; President’s Club winners have earned celebratory trips to Miami/South Beach, Montreal, Punta Cana, and Las Vegas.\n",
      "\n",
      "Outstanding benefits package (including medical, dental, vision, life insurance)\n",
      "\n",
      "401(k) plan with matching company contribution\n",
      "\n",
      "Generous holiday and paid time off schedules\n",
      "\n",
      "Tuition Assistance Program\n",
      "\n",
      "Ongoing professional development training\n",
      "\n",
      "Visible, exciting work supporting sales of cutting edge technology and workflow solutions.\n",
      "\n",
      "Join Konica Minolta and help drive innovation as we transform the Workplace of the Future.™\n",
      "\n",
      "Konica Minolta is an equal opportunity and affirmative action employer. We consider all qualified applicants for employment without regard to race, color, religion, creed, national origin, sex, pregnancy, age, sexual orientation, transgender status, gender identity, disability, alienage or citizenship status, marital status or partnership status, genetic information, veteran status or any other characteristic protected under applicable law.\n",
      "\n",
      "PandoLogic. Keywords: Major Accounts Sales Representative, Location: Plymouth Meeting, PA - 19462\n",
      "\n"
     ]
    }
   ],
   "source": [
    "for line in df.sample()['description'].map(literal_eval).values[0]:\n",
    "    print(line)\n",
    "    print(\"\")"
   ]
  },
  {
   "cell_type": "code",
   "execution_count": null,
   "metadata": {},
   "outputs": [],
   "source": []
  }
 ],
 "metadata": {
  "kernelspec": {
   "display_name": "Python 3",
   "language": "python",
   "name": "python3"
  },
  "language_info": {
   "codemirror_mode": {
    "name": "ipython",
    "version": 3
   },
   "file_extension": ".py",
   "mimetype": "text/x-python",
   "name": "python",
   "nbconvert_exporter": "python",
   "pygments_lexer": "ipython3",
   "version": "3.6.7"
  }
 },
 "nbformat": 4,
 "nbformat_minor": 2
}
